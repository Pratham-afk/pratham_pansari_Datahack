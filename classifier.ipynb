{
 "cells": [
  {
   "cell_type": "code",
   "execution_count": 3,
   "metadata": {},
   "outputs": [],
   "source": [
    "import pandas as pd\n",
    "import numpy as np \n",
    "from sklearn.linear_model import LogisticRegression\n",
    "from sklearn.preprocessing import OrdinalEncoder"
   ]
  },
  {
   "cell_type": "markdown",
   "metadata": {},
   "source": [
    "#### Loading Datasets"
   ]
  },
  {
   "cell_type": "code",
   "execution_count": 4,
   "metadata": {},
   "outputs": [],
   "source": [
    "Ftrs_Train=pd.read_csv(\"training_set_features.csv\",index_col=[0])\n",
    "Labels_Train=pd.read_csv(\"training_set_labels.csv\",index_col=[0])\n",
    "Ftrs_Test=pd.read_csv(\"test_set_features.csv\",index_col=[0])"
   ]
  },
  {
   "cell_type": "markdown",
   "metadata": {},
   "source": [
    "#### Preprocessing Data"
   ]
  },
  {
   "cell_type": "code",
   "execution_count": 5,
   "metadata": {},
   "outputs": [],
   "source": [
    "#Dropping the columns as they have over 12,000 NaN values\n",
    "Ftrs_Train.drop(columns=['employment_occupation','employment_industry'],inplace=True)\n",
    "Ftrs_Test.drop(columns=['employment_occupation','employment_industry'],inplace=True)\n",
    "\n",
    "#Filling NaN values with most frequent class\n",
    "Ftrs_Train=Ftrs_Train.apply(lambda x: x.fillna(x.value_counts().index[0]))\n",
    "Ftrs_Test=Ftrs_Test.apply(lambda x: x.fillna(x.value_counts().index[0]))\n",
    "\n",
    "\n",
    "object_column=['age_group',\n",
    "       'education', 'race', 'sex', 'income_poverty', 'marital_status',\n",
    "       'rent_or_own', 'employment_status', 'hhs_geo_region','census_msa']\n",
    "\n",
    "#Encoding Categorial columns\n",
    "for column in object_column:\n",
    "    encoder=OrdinalEncoder()\n",
    "    Ftrs_Train[column]=encoder.fit_transform(Ftrs_Train[[column]])\n",
    "    Ftrs_Test[column]=encoder.fit_transform(Ftrs_Test[[column]])"
   ]
  },
  {
   "cell_type": "markdown",
   "metadata": {},
   "source": [
    "#### Using **binary relevance** for multi-label Classification\n",
    "Considering Target labels to be independent of each other"
   ]
  },
  {
   "cell_type": "code",
   "execution_count": 7,
   "metadata": {},
   "outputs": [],
   "source": [
    "#Predicting Probability for h1n1 vaccines\n",
    "logreg=LogisticRegression(max_iter=1000,solver='lbfgs')\n",
    "logreg.fit(Ftrs_Train,Labels_Train.iloc[:,0])\n",
    "\n",
    "#Choosing probability of the positive class\n",
    "prob_h1n1=logreg.predict_proba(Ftrs_Test)[:,1]\n",
    "\n",
    "\n",
    "#Predicting Probability for Seasonal vaccines\n",
    "logreg.fit(Ftrs_Train,Labels_Train.iloc[:,1])\n",
    "\n",
    "#Choosing probability of the positive class\n",
    "prob_seasonal=logreg.predict_proba(Ftrs_Test)[:,1]"
   ]
  },
  {
   "cell_type": "code",
   "execution_count": 11,
   "metadata": {},
   "outputs": [
    {
     "data": {
      "text/html": [
       "<div>\n",
       "<style scoped>\n",
       "    .dataframe tbody tr th:only-of-type {\n",
       "        vertical-align: middle;\n",
       "    }\n",
       "\n",
       "    .dataframe tbody tr th {\n",
       "        vertical-align: top;\n",
       "    }\n",
       "\n",
       "    .dataframe thead th {\n",
       "        text-align: right;\n",
       "    }\n",
       "</style>\n",
       "<table border=\"1\" class=\"dataframe\">\n",
       "  <thead>\n",
       "    <tr style=\"text-align: right;\">\n",
       "      <th></th>\n",
       "      <th>h1n1_vaccine</th>\n",
       "      <th>seasonal vaccine</th>\n",
       "    </tr>\n",
       "  </thead>\n",
       "  <tbody>\n",
       "    <tr>\n",
       "      <th>0</th>\n",
       "      <td>0.073829</td>\n",
       "      <td>0.211342</td>\n",
       "    </tr>\n",
       "    <tr>\n",
       "      <th>1</th>\n",
       "      <td>0.041694</td>\n",
       "      <td>0.034216</td>\n",
       "    </tr>\n",
       "    <tr>\n",
       "      <th>2</th>\n",
       "      <td>0.445388</td>\n",
       "      <td>0.693182</td>\n",
       "    </tr>\n",
       "    <tr>\n",
       "      <th>3</th>\n",
       "      <td>0.484228</td>\n",
       "      <td>0.879726</td>\n",
       "    </tr>\n",
       "    <tr>\n",
       "      <th>4</th>\n",
       "      <td>0.224462</td>\n",
       "      <td>0.493010</td>\n",
       "    </tr>\n",
       "    <tr>\n",
       "      <th>5</th>\n",
       "      <td>0.409471</td>\n",
       "      <td>0.911629</td>\n",
       "    </tr>\n",
       "    <tr>\n",
       "      <th>6</th>\n",
       "      <td>0.349004</td>\n",
       "      <td>0.504131</td>\n",
       "    </tr>\n",
       "    <tr>\n",
       "      <th>7</th>\n",
       "      <td>0.157040</td>\n",
       "      <td>0.315600</td>\n",
       "    </tr>\n",
       "    <tr>\n",
       "      <th>8</th>\n",
       "      <td>0.037369</td>\n",
       "      <td>0.175334</td>\n",
       "    </tr>\n",
       "    <tr>\n",
       "      <th>9</th>\n",
       "      <td>0.191272</td>\n",
       "      <td>0.856585</td>\n",
       "    </tr>\n",
       "  </tbody>\n",
       "</table>\n",
       "</div>"
      ],
      "text/plain": [
       "   h1n1_vaccine  seasonal vaccine\n",
       "0      0.073829          0.211342\n",
       "1      0.041694          0.034216\n",
       "2      0.445388          0.693182\n",
       "3      0.484228          0.879726\n",
       "4      0.224462          0.493010\n",
       "5      0.409471          0.911629\n",
       "6      0.349004          0.504131\n",
       "7      0.157040          0.315600\n",
       "8      0.037369          0.175334\n",
       "9      0.191272          0.856585"
      ]
     },
     "execution_count": 11,
     "metadata": {},
     "output_type": "execute_result"
    }
   ],
   "source": [
    "result=pd.DataFrame(prob_h1n1,columns=[\"h1n1_vaccine\"])\n",
    "\n",
    "result[\"seasonal vaccine\"]=pd.Series(prob_seasonal)\n",
    "\n",
    "result.to_csv(\"results.csv\",index_label=\"respondent_id\")\n",
    "result.head(10)"
   ]
  }
 ],
 "metadata": {
  "kernelspec": {
   "display_name": "Python 3",
   "language": "python",
   "name": "python3"
  },
  "language_info": {
   "codemirror_mode": {
    "name": "ipython",
    "version": 3
   },
   "file_extension": ".py",
   "mimetype": "text/x-python",
   "name": "python",
   "nbconvert_exporter": "python",
   "pygments_lexer": "ipython3",
   "version": "3.11.2"
  }
 },
 "nbformat": 4,
 "nbformat_minor": 2
}
